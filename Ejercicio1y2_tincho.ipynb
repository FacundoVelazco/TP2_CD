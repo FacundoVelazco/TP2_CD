{
 "cells": [
  {
   "cell_type": "code",
   "execution_count": 2,
   "metadata": {
    "id": "IZWhjujx9RWG",
    "ExecuteTime": {
     "end_time": "2023-11-05T19:33:39.654234Z",
     "start_time": "2023-11-05T19:33:39.642270Z"
    }
   },
   "outputs": [],
   "source": [
    "import numpy as np\n",
    "import pandas as pd\n",
    "import matplotlib.pyplot as plt\n",
    "import seaborn as sns"
   ]
  },
  {
   "cell_type": "code",
   "execution_count": 3,
   "metadata": {
    "id": "Q6ZdKJZe9RWH",
    "ExecuteTime": {
     "end_time": "2023-11-05T19:33:40.657989Z",
     "start_time": "2023-11-05T19:33:40.646906Z"
    }
   },
   "outputs": [],
   "source": [
    "#%matplotlib qt"
   ]
  },
  {
   "cell_type": "code",
   "execution_count": 4,
   "metadata": {
    "id": "tCKl1OXP9RWI",
    "ExecuteTime": {
     "end_time": "2023-11-05T19:33:41.443641Z",
     "start_time": "2023-11-05T19:33:41.428941Z"
    }
   },
   "outputs": [],
   "source": [
    "df = pd.read_csv(\"data/data_uci.csv\",sep=\";\")"
   ]
  },
  {
   "cell_type": "code",
   "execution_count": 5,
   "metadata": {
    "id": "_j-tS9X39RWJ",
    "executionInfo": {
     "status": "ok",
     "timestamp": 1699201275619,
     "user_tz": 180,
     "elapsed": 24,
     "user": {
      "displayName": "Martin",
      "userId": "04502746936763436867"
     }
    },
    "outputId": "fb6010fc-9441-4fc4-e8d0-2f4a3eab7009",
    "colab": {
     "base_uri": "https://localhost:8080/"
    },
    "ExecuteTime": {
     "end_time": "2023-11-05T19:33:42.080680Z",
     "start_time": "2023-11-05T19:33:42.075180Z"
    }
   },
   "outputs": [
    {
     "data": {
      "text/plain": "(303, 6)"
     },
     "execution_count": 5,
     "metadata": {},
     "output_type": "execute_result"
    }
   ],
   "source": [
    "df.shape"
   ]
  },
  {
   "cell_type": "code",
   "execution_count": 6,
   "metadata": {
    "id": "Epc4Qs2M9RWK",
    "executionInfo": {
     "status": "ok",
     "timestamp": 1699201275620,
     "user_tz": 180,
     "elapsed": 23,
     "user": {
      "displayName": "Martin",
      "userId": "04502746936763436867"
     }
    },
    "outputId": "6ee0bb64-9c32-46d6-d588-d3390c4e70cb",
    "colab": {
     "base_uri": "https://localhost:8080/",
     "height": 206
    },
    "ExecuteTime": {
     "end_time": "2023-11-05T19:33:42.859029Z",
     "start_time": "2023-11-05T19:33:42.847934Z"
    }
   },
   "outputs": [
    {
     "data": {
      "text/plain": "   edad  td  par  col  fcm riesgo\n0    63   1  145  233  150   bajo\n1    67   4  160  286  108   alto\n2    67   4  120  229  129   alto\n3    37   3  130  250  187   bajo\n4    41   2  130  204  172   bajo",
      "text/html": "<div>\n<style scoped>\n    .dataframe tbody tr th:only-of-type {\n        vertical-align: middle;\n    }\n\n    .dataframe tbody tr th {\n        vertical-align: top;\n    }\n\n    .dataframe thead th {\n        text-align: right;\n    }\n</style>\n<table border=\"1\" class=\"dataframe\">\n  <thead>\n    <tr style=\"text-align: right;\">\n      <th></th>\n      <th>edad</th>\n      <th>td</th>\n      <th>par</th>\n      <th>col</th>\n      <th>fcm</th>\n      <th>riesgo</th>\n    </tr>\n  </thead>\n  <tbody>\n    <tr>\n      <th>0</th>\n      <td>63</td>\n      <td>1</td>\n      <td>145</td>\n      <td>233</td>\n      <td>150</td>\n      <td>bajo</td>\n    </tr>\n    <tr>\n      <th>1</th>\n      <td>67</td>\n      <td>4</td>\n      <td>160</td>\n      <td>286</td>\n      <td>108</td>\n      <td>alto</td>\n    </tr>\n    <tr>\n      <th>2</th>\n      <td>67</td>\n      <td>4</td>\n      <td>120</td>\n      <td>229</td>\n      <td>129</td>\n      <td>alto</td>\n    </tr>\n    <tr>\n      <th>3</th>\n      <td>37</td>\n      <td>3</td>\n      <td>130</td>\n      <td>250</td>\n      <td>187</td>\n      <td>bajo</td>\n    </tr>\n    <tr>\n      <th>4</th>\n      <td>41</td>\n      <td>2</td>\n      <td>130</td>\n      <td>204</td>\n      <td>172</td>\n      <td>bajo</td>\n    </tr>\n  </tbody>\n</table>\n</div>"
     },
     "execution_count": 6,
     "metadata": {},
     "output_type": "execute_result"
    }
   ],
   "source": [
    "df.head()"
   ]
  },
  {
   "cell_type": "code",
   "execution_count": 8,
   "metadata": {
    "id": "GbM4Z9GP9RWL",
    "executionInfo": {
     "status": "ok",
     "timestamp": 1699201275620,
     "user_tz": 180,
     "elapsed": 21,
     "user": {
      "displayName": "Martin",
      "userId": "04502746936763436867"
     }
    },
    "outputId": "e16ee1b9-3181-44e2-fb8d-b11d8c931139",
    "colab": {
     "base_uri": "https://localhost:8080/",
     "height": 206
    },
    "ExecuteTime": {
     "end_time": "2023-11-05T19:34:30.008037Z",
     "start_time": "2023-11-05T19:34:29.989931Z"
    }
   },
   "outputs": [
    {
     "data": {
      "text/plain": "           count        mean        std         min         25%         50%  \\\nedad  303.000000   54.438944   9.038662   29.000000   48.000000   56.000000   \ntd    303.000000    3.158416   0.960126    1.000000    3.000000    3.000000   \npar   303.000000  127.524752  28.420772   -1.000000  120.000000  130.000000   \ncol   303.000000  246.693069  51.776918  126.000000  211.000000  241.000000   \nfcm   303.000000  145.528053  32.898676    0.000000  132.000000  152.000000   \n\n             75%         max  \nedad   61.000000   77.000000  \ntd      4.000000    4.000000  \npar   140.000000  200.000000  \ncol   275.000000  564.000000  \nfcm   165.000000  202.000000  ",
      "text/html": "<div>\n<style scoped>\n    .dataframe tbody tr th:only-of-type {\n        vertical-align: middle;\n    }\n\n    .dataframe tbody tr th {\n        vertical-align: top;\n    }\n\n    .dataframe thead th {\n        text-align: right;\n    }\n</style>\n<table border=\"1\" class=\"dataframe\">\n  <thead>\n    <tr style=\"text-align: right;\">\n      <th></th>\n      <th>count</th>\n      <th>mean</th>\n      <th>std</th>\n      <th>min</th>\n      <th>25%</th>\n      <th>50%</th>\n      <th>75%</th>\n      <th>max</th>\n    </tr>\n  </thead>\n  <tbody>\n    <tr>\n      <th>edad</th>\n      <td>303.000000</td>\n      <td>54.438944</td>\n      <td>9.038662</td>\n      <td>29.000000</td>\n      <td>48.000000</td>\n      <td>56.000000</td>\n      <td>61.000000</td>\n      <td>77.000000</td>\n    </tr>\n    <tr>\n      <th>td</th>\n      <td>303.000000</td>\n      <td>3.158416</td>\n      <td>0.960126</td>\n      <td>1.000000</td>\n      <td>3.000000</td>\n      <td>3.000000</td>\n      <td>4.000000</td>\n      <td>4.000000</td>\n    </tr>\n    <tr>\n      <th>par</th>\n      <td>303.000000</td>\n      <td>127.524752</td>\n      <td>28.420772</td>\n      <td>-1.000000</td>\n      <td>120.000000</td>\n      <td>130.000000</td>\n      <td>140.000000</td>\n      <td>200.000000</td>\n    </tr>\n    <tr>\n      <th>col</th>\n      <td>303.000000</td>\n      <td>246.693069</td>\n      <td>51.776918</td>\n      <td>126.000000</td>\n      <td>211.000000</td>\n      <td>241.000000</td>\n      <td>275.000000</td>\n      <td>564.000000</td>\n    </tr>\n    <tr>\n      <th>fcm</th>\n      <td>303.000000</td>\n      <td>145.528053</td>\n      <td>32.898676</td>\n      <td>0.000000</td>\n      <td>132.000000</td>\n      <td>152.000000</td>\n      <td>165.000000</td>\n      <td>202.000000</td>\n    </tr>\n  </tbody>\n</table>\n</div>"
     },
     "execution_count": 8,
     "metadata": {},
     "output_type": "execute_result"
    }
   ],
   "source": [
    "df.describe(include=np.number).T.apply(lambda s: s.apply(lambda x: format(x, 'f')))\n"
   ]
  },
  {
   "cell_type": "code",
   "execution_count": 26,
   "metadata": {
    "id": "udGftmrL9RWL",
    "executionInfo": {
     "status": "ok",
     "timestamp": 1699201275620,
     "user_tz": 180,
     "elapsed": 19,
     "user": {
      "displayName": "Martin",
      "userId": "04502746936763436867"
     }
    },
    "outputId": "2624bfa8-7e37-42e8-9371-43b59ddc3575",
    "colab": {
     "base_uri": "https://localhost:8080/"
    },
    "ExecuteTime": {
     "end_time": "2023-11-05T19:42:48.016471Z",
     "start_time": "2023-11-05T19:42:48.003585Z"
    }
   },
   "outputs": [
    {
     "data": {
      "text/plain": "edad      0\ntd        0\npar       0\ncol       0\nfcm       0\nriesgo    0\ndtype: int64"
     },
     "execution_count": 26,
     "metadata": {},
     "output_type": "execute_result"
    }
   ],
   "source": [
    "df.isnull().sum()"
   ]
  },
  {
   "cell_type": "code",
   "execution_count": 19,
   "metadata": {
    "id": "r2eeJBe69RWM",
    "executionInfo": {
     "status": "ok",
     "timestamp": 1699201275961,
     "user_tz": 180,
     "elapsed": 357,
     "user": {
      "displayName": "Martin",
      "userId": "04502746936763436867"
     }
    },
    "outputId": "0d922c75-f948-47f0-e5aa-11d2cdb2fb4d",
    "colab": {
     "base_uri": "https://localhost:8080/",
     "height": 467
    },
    "ExecuteTime": {
     "end_time": "2023-11-05T19:40:56.613518Z",
     "start_time": "2023-11-05T19:40:56.509201Z"
    }
   },
   "outputs": [
    {
     "data": {
      "text/plain": "<Axes: xlabel='riesgo', ylabel='count'>"
     },
     "execution_count": 19,
     "metadata": {},
     "output_type": "execute_result"
    },
    {
     "data": {
      "text/plain": "<Figure size 640x480 with 1 Axes>",
      "image/png": "[encoded data removed]"
     },
     "metadata": {},
     "output_type": "display_data"
    }
   ],
   "source": [
    "fig = plt.figure()\n",
    "target = df['riesgo']\n",
    "sns.countplot(x=target)\n",
    "\n"
   ]
  },
  {
   "cell_type": "code",
   "execution_count": 31,
   "metadata": {
    "id": "dVY4Gkip9RWM",
    "executionInfo": {
     "status": "ok",
     "timestamp": 1699201275962,
     "user_tz": 180,
     "elapsed": 17,
     "user": {
      "displayName": "Martin",
      "userId": "04502746936763436867"
     }
    },
    "outputId": "f1d0074a-329d-482d-f3d6-b6e5b1f9d75c",
    "colab": {
     "base_uri": "https://localhost:8080/"
    },
    "ExecuteTime": {
     "end_time": "2023-11-05T19:51:01.957780Z",
     "start_time": "2023-11-05T19:51:01.951014Z"
    }
   },
   "outputs": [
    {
     "data": {
      "text/plain": "count    303.000000\nmean     149.698020\nstd       22.617172\nmin       71.000000\n25%      136.000000\n50%      152.000000\n75%      165.000000\nmax      202.000000\nName: fcm, dtype: float64"
     },
     "execution_count": 31,
     "metadata": {},
     "output_type": "execute_result"
    }
   ],
   "source": [
    "#Interpolacion de valores 0 para Frecuencia cardiaca maxima\n",
    "df['fcm'].replace(to_replace=0,value=np.nan,inplace=True)\n",
    "df['fcm'].interpolate(method='linear',inplace=True)\n",
    "print(df['fcm'])"
   ]
  },
  {
   "cell_type": "code",
   "execution_count": 30,
   "metadata": {
    "id": "8aOgV6mw9RWN",
    "executionInfo": {
     "status": "ok",
     "timestamp": 1699201275963,
     "user_tz": 180,
     "elapsed": 16,
     "user": {
      "displayName": "Martin",
      "userId": "04502746936763436867"
     }
    },
    "outputId": "0e2313b0-9a94-4ae0-986c-364c37c14024",
    "colab": {
     "base_uri": "https://localhost:8080/"
    },
    "ExecuteTime": {
     "end_time": "2023-11-05T19:50:58.665298Z",
     "start_time": "2023-11-05T19:50:58.594888Z"
    }
   },
   "outputs": [
    {
     "data": {
      "text/plain": "count    303.000000\nmean     131.724422\nstd       17.643214\nmin       94.000000\n25%      120.000000\n50%      130.000000\n75%      140.000000\nmax      200.000000\nName: par, dtype: float64"
     },
     "execution_count": 30,
     "metadata": {},
     "output_type": "execute_result"
    }
   ],
   "source": [
    "#Interpolacion de valores 0 para presion arterial en reposo\n",
    "df['par'].replace(to_replace=0,value=np.nan,inplace=True)\n",
    "df['par'].replace(to_replace=-1,value=np.nan,inplace=True)\n",
    "df['par'].interpolate(method='linear',inplace=True)\n",
    "print(df['par'])"
   ]
  },
  {
   "cell_type": "code",
   "execution_count": 32,
   "metadata": {
    "id": "utSAxBpf9RWO",
    "executionInfo": {
     "status": "ok",
     "timestamp": 1699201275963,
     "user_tz": 180,
     "elapsed": 10,
     "user": {
      "displayName": "Martin",
      "userId": "04502746936763436867"
     }
    },
    "outputId": "e0ca123f-d8c1-40af-ea2d-acc0eb2c2507",
    "colab": {
     "base_uri": "https://localhost:8080/"
    },
    "ExecuteTime": {
     "end_time": "2023-11-05T19:51:04.294334Z",
     "start_time": "2023-11-05T19:51:04.289104Z"
    }
   },
   "outputs": [
    {
     "name": "stdout",
     "output_type": "stream",
     "text": [
      "164\n",
      "139\n"
     ]
    }
   ],
   "source": [
    "Bajo, Alto = df['riesgo'].value_counts()\n",
    "print(Bajo)\n",
    "print(Alto)"
   ]
  },
  {
   "cell_type": "code",
   "execution_count": 33,
   "metadata": {
    "id": "7Ls77jkp9RWP",
    "executionInfo": {
     "status": "ok",
     "timestamp": 1699201277630,
     "user_tz": 180,
     "elapsed": 1674,
     "user": {
      "displayName": "Martin",
      "userId": "04502746936763436867"
     }
    },
    "outputId": "9fef5d6b-87e0-4fe7-b486-995e80aa531e",
    "colab": {
     "base_uri": "https://localhost:8080/",
     "height": 305
    },
    "ExecuteTime": {
     "end_time": "2023-11-05T19:51:09.068098Z",
     "start_time": "2023-11-05T19:51:07.818460Z"
    }
   },
   "outputs": [
    {
     "name": "stdout",
     "output_type": "stream",
     "text": [
      "144\n",
      "86\n",
      "50\n",
      "23\n"
     ]
    },
    {
     "data": {
      "text/plain": "<Figure size 1300x300 with 5 Axes>",
      "image/png": "[encoded data removed]"
     },
     "metadata": {},
     "output_type": "display_data"
    }
   ],
   "source": [
    "fig, ax = plt.subplots(1,5,figsize=(13,3))\n",
    "fig.suptitle('Boxplots')\n",
    "sns.boxplot(x=df['edad'], ax=ax[0])\n",
    "ax[0].set_title('Edad')\n",
    "sns.boxplot(x=df['par'], ax=ax[1])\n",
    "ax[1].set_title('Presion Arterial en reposo')\n",
    "sns.boxplot(x=df['col'], ax=ax[2])\n",
    "ax[2].set_title('Colesterol')\n",
    "sns.boxplot(x=df['fcm'], ax=ax[3])\n",
    "ax[3].set_title('Frecuencia Cardiaca Maxima')\n",
    "ax[4].hist(x=df['td'])\n",
    "ax[4].set_title('Dolor Toraxico')\n",
    "plt.tight_layout()\n",
    "angTip,angAtip,noAng,asint = df['td'].value_counts()\n",
    "print(angTip)\n",
    "print(angAtip)\n",
    "print(noAng)\n",
    "print(asint)\n"
   ]
  },
  {
   "cell_type": "code",
   "source": [
    "#Analizamos correlacion\n",
    "corr = df.corr(numeric_only = True)\n",
    "sns.heatmap(corr, xticklabels=corr.columns, yticklabels=corr.columns, annot=True, cmap=sns.diverging_palette(220, 20, as_cmap=True))\n",
    "plt.tight_layout()"
   ],
   "metadata": {
    "colab": {
     "base_uri": "https://localhost:8080/",
     "height": 487
    },
    "id": "wAv-yop_SSF0",
    "executionInfo": {
     "status": "ok",
     "timestamp": 1699201278576,
     "user_tz": 180,
     "elapsed": 950,
     "user": {
      "displayName": "Martin",
      "userId": "04502746936763436867"
     }
    },
    "outputId": "63c5bd0b-b60c-4681-b302-a75d62291a5f",
    "ExecuteTime": {
     "end_time": "2023-11-05T19:56:03.283541Z",
     "start_time": "2023-11-05T19:56:03.033567Z"
    }
   },
   "execution_count": 34,
   "outputs": [
    {
     "data": {
      "text/plain": "<Figure size 640x480 with 2 Axes>",
      "image/png": "[encoded data removed]"
     },
     "metadata": {},
     "output_type": "display_data"
    }
   ]
  },
  {
   "cell_type": "code",
   "source": [
    "#Modificamos el dataset para trabajar los datos categoricos\n",
    "df['riesgo'] = df['riesgo'].map({'bajo':0,'alto':1})\n"
   ],
   "metadata": {
    "id": "YzCAHfdVSWj4",
    "ExecuteTime": {
     "end_time": "2023-11-05T20:00:09.953186Z",
     "start_time": "2023-11-05T20:00:09.946868Z"
    }
   },
   "execution_count": 35,
   "outputs": []
  },
  {
   "cell_type": "code",
   "source": [
    "#Separamos las variables de entrada y salida\n",
    "X = df[['edad','td','par','col','fcm']]\n",
    "Y = df['riesgo']"
   ],
   "metadata": {
    "id": "gzwGw1fzT8if",
    "ExecuteTime": {
     "end_time": "2023-11-05T20:00:10.751021Z",
     "start_time": "2023-11-05T20:00:10.746952Z"
    }
   },
   "execution_count": 36,
   "outputs": []
  },
  {
   "cell_type": "code",
   "source": [
    "#Aplicamos el oversampling visto en clases de práctica:\n",
    "import imblearn\n",
    "from imblearn.over_sampling import RandomOverSampler\n"
   ],
   "metadata": {
    "id": "JvJw2AAFUo48",
    "ExecuteTime": {
     "end_time": "2023-11-05T20:00:11.777010Z",
     "start_time": "2023-11-05T20:00:11.296550Z"
    }
   },
   "execution_count": 37,
   "outputs": []
  },
  {
   "cell_type": "code",
   "source": [
    "oversample = RandomOverSampler(sampling_strategy='minority')\n",
    "X_over, Y_over = oversample.fit_resample(X, Y)\n",
    "sns.countplot(x=Y_over)\n"
   ],
   "metadata": {
    "id": "2Te1jHvZUtnj",
    "ExecuteTime": {
     "end_time": "2023-11-05T20:00:12.475389Z",
     "start_time": "2023-11-05T20:00:12.359990Z"
    }
   },
   "execution_count": 38,
   "outputs": [
    {
     "data": {
      "text/plain": "<Axes: xlabel='riesgo', ylabel='count'>"
     },
     "execution_count": 38,
     "metadata": {},
     "output_type": "execute_result"
    },
    {
     "data": {
      "text/plain": "<Figure size 640x480 with 1 Axes>",
      "image/png": "[encoded data removed]"
     },
     "metadata": {},
     "output_type": "display_data"
    }
   ]
  }
 ],
 "metadata": {
  "kernelspec": {
   "display_name": "Python 3",
   "language": "python",
   "name": "python3"
  },
  "language_info": {
   "codemirror_mode": {
    "name": "ipython",
    "version": 3
   },
   "file_extension": ".py",
   "mimetype": "text/x-python",
   "name": "python",
   "nbconvert_exporter": "python",
   "pygments_lexer": "ipython3",
   "version": "3.11.5"
  },
  "colab": {
   "provenance": []
  }
 },
 "nbformat": 4,
 "nbformat_minor": 0
}
