{
 "cells": [
  {
   "cell_type": "code",
   "execution_count": 46,
   "id": "initial_id",
   "metadata": {
    "collapsed": true,
    "ExecuteTime": {
     "end_time": "2023-11-05T20:33:51.694517Z",
     "start_time": "2023-11-05T20:33:51.667070Z"
    }
   },
   "outputs": [],
   "source": [
    "import numpy as np\n",
    "import pandas as pd\n",
    "import matplotlib.pyplot as plt\n",
    "import seaborn as sns"
   ]
  },
  {
   "cell_type": "code",
   "execution_count": 47,
   "outputs": [],
   "source": [
    "#%matplotlib qt"
   ],
   "metadata": {
    "collapsed": false,
    "ExecuteTime": {
     "end_time": "2023-11-05T20:33:51.694743Z",
     "start_time": "2023-11-05T20:33:51.669950Z"
    }
   },
   "id": "fa1a076a82426bf2"
  },
  {
   "cell_type": "code",
   "execution_count": 48,
   "outputs": [],
   "source": [
    "df = pd.read_csv(\"data/data_uci.csv\",sep=\";\")"
   ],
   "metadata": {
    "collapsed": false,
    "ExecuteTime": {
     "end_time": "2023-11-05T20:33:51.717108Z",
     "start_time": "2023-11-05T20:33:51.674459Z"
    }
   },
   "id": "ee2253477ae2344d"
  },
  {
   "cell_type": "code",
   "execution_count": 49,
   "outputs": [
    {
     "data": {
      "text/plain": "   edad  td  par  col  fcm riesgo\n0    63   1  145  233  150   bajo\n1    67   4  160  286  108   alto\n2    67   4  120  229  129   alto\n3    37   3  130  250  187   bajo\n4    41   2  130  204  172   bajo",
      "text/html": "<div>\n<style scoped>\n    .dataframe tbody tr th:only-of-type {\n        vertical-align: middle;\n    }\n\n    .dataframe tbody tr th {\n        vertical-align: top;\n    }\n\n    .dataframe thead th {\n        text-align: right;\n    }\n</style>\n<table border=\"1\" class=\"dataframe\">\n  <thead>\n    <tr style=\"text-align: right;\">\n      <th></th>\n      <th>edad</th>\n      <th>td</th>\n      <th>par</th>\n      <th>col</th>\n      <th>fcm</th>\n      <th>riesgo</th>\n    </tr>\n  </thead>\n  <tbody>\n    <tr>\n      <th>0</th>\n      <td>63</td>\n      <td>1</td>\n      <td>145</td>\n      <td>233</td>\n      <td>150</td>\n      <td>bajo</td>\n    </tr>\n    <tr>\n      <th>1</th>\n      <td>67</td>\n      <td>4</td>\n      <td>160</td>\n      <td>286</td>\n      <td>108</td>\n      <td>alto</td>\n    </tr>\n    <tr>\n      <th>2</th>\n      <td>67</td>\n      <td>4</td>\n      <td>120</td>\n      <td>229</td>\n      <td>129</td>\n      <td>alto</td>\n    </tr>\n    <tr>\n      <th>3</th>\n      <td>37</td>\n      <td>3</td>\n      <td>130</td>\n      <td>250</td>\n      <td>187</td>\n      <td>bajo</td>\n    </tr>\n    <tr>\n      <th>4</th>\n      <td>41</td>\n      <td>2</td>\n      <td>130</td>\n      <td>204</td>\n      <td>172</td>\n      <td>bajo</td>\n    </tr>\n  </tbody>\n</table>\n</div>"
     },
     "execution_count": 49,
     "metadata": {},
     "output_type": "execute_result"
    }
   ],
   "source": [
    "df.head()"
   ],
   "metadata": {
    "collapsed": false,
    "ExecuteTime": {
     "end_time": "2023-11-05T20:33:51.718319Z",
     "start_time": "2023-11-05T20:33:51.683778Z"
    }
   },
   "id": "9d9ba2d643ba29d7"
  },
  {
   "cell_type": "code",
   "execution_count": 50,
   "outputs": [
    {
     "data": {
      "text/plain": "count    303.000000\nmean     149.698020\nstd       22.617172\nmin       71.000000\n25%      136.000000\n50%      152.000000\n75%      165.000000\nmax      202.000000\nName: fcm, dtype: float64"
     },
     "execution_count": 50,
     "metadata": {},
     "output_type": "execute_result"
    }
   ],
   "source": [
    "#Interpolacion de valores 0 para Frecuencia cardiaca maxima\n",
    "df['fcm'].replace(to_replace=0, value=np.nan, inplace=True)\n",
    "df['fcm'].interpolate(method='linear', inplace=True)\n",
    "df['fcm'].describe()"
   ],
   "metadata": {
    "collapsed": false,
    "ExecuteTime": {
     "end_time": "2023-11-05T20:33:51.719196Z",
     "start_time": "2023-11-05T20:33:51.691904Z"
    }
   },
   "id": "92b1865ec6f837a8"
  },
  {
   "cell_type": "code",
   "execution_count": 51,
   "outputs": [
    {
     "data": {
      "text/plain": "count    303.000000\nmean     131.724422\nstd       17.643214\nmin       94.000000\n25%      120.000000\n50%      130.000000\n75%      140.000000\nmax      200.000000\nName: par, dtype: float64"
     },
     "execution_count": 51,
     "metadata": {},
     "output_type": "execute_result"
    }
   ],
   "source": [
    "#Interpolacion de valores 0 para presion arterial en reposo\n",
    "df['par'].replace(to_replace=0, value=np.nan, inplace=True)\n",
    "df['par'].replace(to_replace=-1, value=np.nan, inplace=True)\n",
    "df['par'].interpolate(method='linear', inplace=True)\n",
    "df['par'].describe()"
   ],
   "metadata": {
    "collapsed": false,
    "ExecuteTime": {
     "end_time": "2023-11-05T20:33:51.719566Z",
     "start_time": "2023-11-05T20:33:51.696995Z"
    }
   },
   "id": "2c3b3f29bec29936"
  },
  {
   "cell_type": "code",
   "execution_count": 52,
   "outputs": [
    {
     "data": {
      "text/plain": "<Figure size 640x480 with 2 Axes>",
      "image/png": "[encoded data removed]"
     },
     "metadata": {},
     "output_type": "display_data"
    }
   ],
   "source": [
    "#Analizamos correlacion\n",
    "corr = df.corr(numeric_only = True)\n",
    "sns.heatmap(corr, xticklabels=corr.columns, yticklabels=corr.columns, annot=True, cmap=sns.diverging_palette(220, 20, as_cmap=True))\n",
    "plt.tight_layout()"
   ],
   "metadata": {
    "collapsed": false,
    "ExecuteTime": {
     "end_time": "2023-11-05T20:33:51.941868Z",
     "start_time": "2023-11-05T20:33:51.705643Z"
    }
   },
   "id": "27a282fb083beabc"
  },
  {
   "cell_type": "code",
   "execution_count": 53,
   "outputs": [],
   "source": [
    "#Modificamos el dataset para trabajar los datos categoricos\n",
    "df['riesgo'] = df['riesgo'].map({'bajo':0,'alto':1})"
   ],
   "metadata": {
    "collapsed": false,
    "ExecuteTime": {
     "end_time": "2023-11-05T20:33:51.942641Z",
     "start_time": "2023-11-05T20:33:51.939359Z"
    }
   },
   "id": "12abb2fb4b5a9998"
  },
  {
   "cell_type": "code",
   "execution_count": 94,
   "outputs": [],
   "source": [
    "#Separamos las variables objetivo y entrada.\n",
    "X = df[['edad','td','par','col','fcm']]\n",
    "Y = df['riesgo']\n"
   ],
   "metadata": {
    "collapsed": false,
    "ExecuteTime": {
     "end_time": "2023-11-05T20:48:47.271447Z",
     "start_time": "2023-11-05T20:48:47.257776Z"
    }
   },
   "id": "f104e7c72ddf138d"
  },
  {
   "cell_type": "code",
   "execution_count": 95,
   "outputs": [
    {
     "data": {
      "text/plain": "<Axes: xlabel='riesgo', ylabel='count'>"
     },
     "execution_count": 95,
     "metadata": {},
     "output_type": "execute_result"
    },
    {
     "data": {
      "text/plain": "<Figure size 640x480 with 1 Axes>",
      "image/png": "[encoded data removed]"
     },
     "metadata": {},
     "output_type": "display_data"
    }
   ],
   "source": [
    "# Previo al oversampling\n",
    "fig = plt.figure()\n",
    "target = df['riesgo']\n",
    "sns.countplot(x=target)"
   ],
   "metadata": {
    "collapsed": false,
    "ExecuteTime": {
     "end_time": "2023-11-05T20:48:50.594405Z",
     "start_time": "2023-11-05T20:48:50.477724Z"
    }
   },
   "id": "eada82b2025aeece"
  },
  {
   "cell_type": "code",
   "execution_count": 89,
   "outputs": [],
   "source": [
    "#Aplicamos el oversampling visto en clases de práctica:\n",
    "from imblearn.over_sampling import RandomOverSampler"
   ],
   "metadata": {
    "collapsed": false,
    "ExecuteTime": {
     "end_time": "2023-11-05T20:48:12.243204Z",
     "start_time": "2023-11-05T20:48:12.235830Z"
    }
   },
   "id": "c1ac9491d0943026"
  },
  {
   "cell_type": "code",
   "execution_count": 97,
   "outputs": [
    {
     "data": {
      "text/plain": "<Axes: xlabel='riesgo', ylabel='count'>"
     },
     "execution_count": 97,
     "metadata": {},
     "output_type": "execute_result"
    },
    {
     "data": {
      "text/plain": "<Figure size 640x480 with 1 Axes>",
      "image/png": "[encoded data removed]"
     },
     "metadata": {},
     "output_type": "display_data"
    }
   ],
   "source": [
    "oversample = RandomOverSampler(sampling_strategy='minority')\n",
    "X_over, Y_over = oversample.fit_resample(X, Y)\n",
    "sns.countplot(x=Y_over)"
   ],
   "metadata": {
    "collapsed": false,
    "ExecuteTime": {
     "end_time": "2023-11-05T20:49:28.631088Z",
     "start_time": "2023-11-05T20:49:28.514935Z"
    }
   },
   "id": "c29343f7c0745312"
  },
  {
   "cell_type": "code",
   "execution_count": null,
   "outputs": [],
   "source": [],
   "metadata": {
    "collapsed": false
   },
   "id": "7d2f61ab699ad129"
  },
  {
   "cell_type": "code",
   "execution_count": 98,
   "outputs": [],
   "source": [
    "# Normalizacion\n",
    "def mean_norm(df_input):\n",
    "    return df_input.apply(lambda x: (x - x.mean()) / x.std(), axis=0)\n",
    "\n",
    "def minmax_norm(df_input):\n",
    "    return (df_input - df_input.min()) / (df_input.max() - df_input.min())\n",
    "\n",
    "X_over_normalized = minmax_norm(X_over)"
   ],
   "metadata": {
    "collapsed": false,
    "ExecuteTime": {
     "end_time": "2023-11-05T20:54:06.001773Z",
     "start_time": "2023-11-05T20:54:05.995537Z"
    }
   },
   "id": "c8b8438fa37ad6ee"
  },
  {
   "cell_type": "code",
   "execution_count": 99,
   "outputs": [
    {
     "data": {
      "text/plain": "         edad        td       par       col       fcm\n0    0.708333  0.000000  0.481132  0.244292  0.603053\n1    0.791667  1.000000  0.622642  0.365297  0.282443\n2    0.791667  1.000000  0.245283  0.235160  0.442748\n3    0.166667  0.666667  0.339623  0.283105  0.885496\n4    0.250000  0.333333  0.339623  0.178082  0.770992\n..        ...       ...       ...       ...       ...\n323  0.458333  1.000000  0.433962  0.392694  0.389313\n324  0.708333  1.000000  0.528302  0.641553  0.633588\n325  0.791667  1.000000  0.245283  0.253425  0.000000\n326  0.312500  1.000000  0.169811  0.374429  0.625954\n327  0.604167  1.000000  0.056604  0.246575  0.648855\n\n[328 rows x 5 columns]",
      "text/html": "<div>\n<style scoped>\n    .dataframe tbody tr th:only-of-type {\n        vertical-align: middle;\n    }\n\n    .dataframe tbody tr th {\n        vertical-align: top;\n    }\n\n    .dataframe thead th {\n        text-align: right;\n    }\n</style>\n<table border=\"1\" class=\"dataframe\">\n  <thead>\n    <tr style=\"text-align: right;\">\n      <th></th>\n      <th>edad</th>\n      <th>td</th>\n      <th>par</th>\n      <th>col</th>\n      <th>fcm</th>\n    </tr>\n  </thead>\n  <tbody>\n    <tr>\n      <th>0</th>\n      <td>0.708333</td>\n      <td>0.000000</td>\n      <td>0.481132</td>\n      <td>0.244292</td>\n      <td>0.603053</td>\n    </tr>\n    <tr>\n      <th>1</th>\n      <td>0.791667</td>\n      <td>1.000000</td>\n      <td>0.622642</td>\n      <td>0.365297</td>\n      <td>0.282443</td>\n    </tr>\n    <tr>\n      <th>2</th>\n      <td>0.791667</td>\n      <td>1.000000</td>\n      <td>0.245283</td>\n      <td>0.235160</td>\n      <td>0.442748</td>\n    </tr>\n    <tr>\n      <th>3</th>\n      <td>0.166667</td>\n      <td>0.666667</td>\n      <td>0.339623</td>\n      <td>0.283105</td>\n      <td>0.885496</td>\n    </tr>\n    <tr>\n      <th>4</th>\n      <td>0.250000</td>\n      <td>0.333333</td>\n      <td>0.339623</td>\n      <td>0.178082</td>\n      <td>0.770992</td>\n    </tr>\n    <tr>\n      <th>...</th>\n      <td>...</td>\n      <td>...</td>\n      <td>...</td>\n      <td>...</td>\n      <td>...</td>\n    </tr>\n    <tr>\n      <th>323</th>\n      <td>0.458333</td>\n      <td>1.000000</td>\n      <td>0.433962</td>\n      <td>0.392694</td>\n      <td>0.389313</td>\n    </tr>\n    <tr>\n      <th>324</th>\n      <td>0.708333</td>\n      <td>1.000000</td>\n      <td>0.528302</td>\n      <td>0.641553</td>\n      <td>0.633588</td>\n    </tr>\n    <tr>\n      <th>325</th>\n      <td>0.791667</td>\n      <td>1.000000</td>\n      <td>0.245283</td>\n      <td>0.253425</td>\n      <td>0.000000</td>\n    </tr>\n    <tr>\n      <th>326</th>\n      <td>0.312500</td>\n      <td>1.000000</td>\n      <td>0.169811</td>\n      <td>0.374429</td>\n      <td>0.625954</td>\n    </tr>\n    <tr>\n      <th>327</th>\n      <td>0.604167</td>\n      <td>1.000000</td>\n      <td>0.056604</td>\n      <td>0.246575</td>\n      <td>0.648855</td>\n    </tr>\n  </tbody>\n</table>\n<p>328 rows × 5 columns</p>\n</div>"
     },
     "execution_count": 99,
     "metadata": {},
     "output_type": "execute_result"
    }
   ],
   "source": [
    "X_over_normalized"
   ],
   "metadata": {
    "collapsed": false,
    "ExecuteTime": {
     "end_time": "2023-11-05T20:54:06.524319Z",
     "start_time": "2023-11-05T20:54:06.520734Z"
    }
   },
   "id": "f587369e6a22a168"
  }
 ],
 "metadata": {
  "kernelspec": {
   "display_name": "Python 3",
   "language": "python",
   "name": "python3"
  },
  "language_info": {
   "codemirror_mode": {
    "name": "ipython",
    "version": 2
   },
   "file_extension": ".py",
   "mimetype": "text/x-python",
   "name": "python",
   "nbconvert_exporter": "python",
   "pygments_lexer": "ipython2",
   "version": "2.7.6"
  }
 },
 "nbformat": 4,
 "nbformat_minor": 5
}
