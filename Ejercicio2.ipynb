{
 "cells": [
  {
   "cell_type": "code",
   "execution_count": null,
   "id": "initial_id",
   "metadata": {
    "collapsed": true
   },
   "outputs": [],
   "source": [
    "import numpy as np\n",
    "import pandas as pd\n",
    "import matplotlib.pyplot as plt\n",
    "import seaborn as sns"
   ]
  },
  {
   "cell_type": "code",
   "execution_count": null,
   "outputs": [],
   "source": [
    "#%matplotlib qt"
   ],
   "metadata": {
    "collapsed": false
   },
   "id": "fa1a076a82426bf2"
  },
  {
   "cell_type": "code",
   "execution_count": null,
   "outputs": [],
   "source": [
    "df = pd.read_csv(\"data/data_uci.csv\",sep=\";\")"
   ],
   "metadata": {
    "collapsed": false
   },
   "id": "ee2253477ae2344d"
  },
  {
   "cell_type": "code",
   "execution_count": null,
   "outputs": [],
   "source": [
    "df.head()"
   ],
   "metadata": {
    "collapsed": false
   },
   "id": "9d9ba2d643ba29d7"
  },
  {
   "cell_type": "code",
   "execution_count": null,
   "outputs": [],
   "source": [
    "#Interpolacion de valores 0 para Frecuencia cardiaca maxima\n",
    "df['fcm'].replace(to_replace=0, value=np.nan, inplace=True)\n",
    "df['fcm'].interpolate(method='linear', inplace=True)\n",
    "df['fcm'].describe()"
   ],
   "metadata": {
    "collapsed": false
   },
   "id": "92b1865ec6f837a8"
  },
  {
   "cell_type": "code",
   "execution_count": null,
   "outputs": [],
   "source": [
    "#Interpolacion de valores 0 para presion arterial en reposo\n",
    "df['par'].replace(to_replace=0, value=np.nan, inplace=True)\n",
    "df['par'].replace(to_replace=-1, value=np.nan, inplace=True)\n",
    "df['par'].interpolate(method='linear', inplace=True)\n",
    "df['par'].describe()"
   ],
   "metadata": {
    "collapsed": false
   },
   "id": "2c3b3f29bec29936"
  },
  {
   "cell_type": "code",
   "execution_count": null,
   "outputs": [],
   "source": [
    "#Analizamos correlacion\n",
    "corr = df.corr(numeric_only = True)\n",
    "sns.heatmap(corr, xticklabels=corr.columns, yticklabels=corr.columns, annot=True, cmap=sns.diverging_palette(220, 20, as_cmap=True))\n",
    "plt.tight_layout()"
   ],
   "metadata": {
    "collapsed": false
   },
   "id": "27a282fb083beabc"
  },
  {
   "cell_type": "code",
   "execution_count": null,
   "outputs": [],
   "source": [
    "#Modificamos el dataset para trabajar los datos categoricos\n",
    "df['riesgo'] = df['riesgo'].map({'bajo':0,'alto':1})"
   ],
   "metadata": {
    "collapsed": false
   },
   "id": "12abb2fb4b5a9998"
  },
  {
   "cell_type": "code",
   "execution_count": null,
   "outputs": [],
   "source": [
    "#Separamos las variables objetivo y entrada.\n",
    "X = df[['edad','td','par','col','fcm']]\n",
    "Y = df['riesgo']\n"
   ],
   "metadata": {
    "collapsed": false
   },
   "id": "f104e7c72ddf138d"
  },
  {
   "cell_type": "code",
   "execution_count": null,
   "outputs": [],
   "source": [
    "# Previo al oversampling\n",
    "fig = plt.figure()\n",
    "target = df['riesgo']\n",
    "sns.countplot(x=target)"
   ],
   "metadata": {
    "collapsed": false
   },
   "id": "eada82b2025aeece"
  },
  {
   "cell_type": "code",
   "execution_count": null,
   "outputs": [],
   "source": [
    "#Aplicamos el oversampling visto en clases de práctica:\n",
    "from imblearn.over_sampling import RandomOverSampler"
   ],
   "metadata": {
    "collapsed": false
   },
   "id": "c1ac9491d0943026"
  },
  {
   "cell_type": "code",
   "execution_count": null,
   "outputs": [],
   "source": [
    "oversample = RandomOverSampler(sampling_strategy='minority')\n",
    "X_over, Y_over = oversample.fit_resample(X, Y)\n",
    "sns.countplot(x=Y_over)"
   ],
   "metadata": {
    "collapsed": false
   },
   "id": "c29343f7c0745312"
  },
  {
   "cell_type": "code",
   "execution_count": null,
   "outputs": [],
   "source": [
    "# Normalizacion\n",
    "def mean_norm(df_input):\n",
    "    return df_input.apply(lambda x: (x - x.mean()) / x.std(), axis=0)\n",
    "\n",
    "def minmax_norm(df_input):\n",
    "    return (df_input - df_input.min()) / (df_input.max() - df_input.min())\n",
    "\n",
    "X_over_normalized = minmax_norm(X_over)"
   ],
   "metadata": {
    "collapsed": false
   },
   "id": "c8b8438fa37ad6ee"
  },
  {
   "cell_type": "code",
   "execution_count": null,
   "outputs": [],
   "source": [
    "X_over_normalized"
   ],
   "metadata": {
    "collapsed": false
   },
   "id": "f587369e6a22a168"
  }
 ],
 "metadata": {
  "kernelspec": {
   "display_name": "Python 3",
   "language": "python",
   "name": "python3"
  },
  "language_info": {
   "codemirror_mode": {
    "name": "ipython",
    "version": 2
   },
   "file_extension": ".py",
   "mimetype": "text/x-python",
   "name": "python",
   "nbconvert_exporter": "python",
   "pygments_lexer": "ipython2",
   "version": "2.7.6"
  }
 },
 "nbformat": 4,
 "nbformat_minor": 5
}
