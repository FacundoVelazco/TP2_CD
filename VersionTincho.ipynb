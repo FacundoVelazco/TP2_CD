{
 "cells": [
  {
   "cell_type": "code",
   "execution_count": 1,
   "metadata": {
    "id": "IZWhjujx9RWG",
    "ExecuteTime": {
     "end_time": "2023-11-05T20:32:27.991853Z",
     "start_time": "2023-11-05T20:32:27.989647Z"
    }
   },
   "outputs": [],
   "source": [
    "import numpy as np\n",
    "import pandas as pd\n",
    "import matplotlib.pyplot as plt\n",
    "import seaborn as sns"
   ]
  },
  {
   "cell_type": "code",
   "execution_count": 2,
   "metadata": {
    "id": "Q6ZdKJZe9RWH",
    "ExecuteTime": {
     "end_time": "2023-11-05T20:32:28.672870Z",
     "start_time": "2023-11-05T20:32:28.659092Z"
    }
   },
   "outputs": [],
   "source": [
    "#%matplotlib qt"
   ]
  },
  {
   "cell_type": "code",
   "execution_count": 3,
   "metadata": {
    "id": "tCKl1OXP9RWI",
    "ExecuteTime": {
     "end_time": "2023-11-05T20:32:29.368234Z",
     "start_time": "2023-11-05T20:32:29.356149Z"
    }
   },
   "outputs": [],
   "source": [
    "df = pd.read_csv(\"data/data_uci.csv\",sep=\";\")"
   ]
  },
  {
   "cell_type": "code",
   "execution_count": 4,
   "metadata": {
    "id": "_j-tS9X39RWJ",
    "executionInfo": {
     "status": "ok",
     "timestamp": 1699201275619,
     "user_tz": 180,
     "elapsed": 24,
     "user": {
      "displayName": "Martin",
      "userId": "04502746936763436867"
     }
    },
    "outputId": "fb6010fc-9441-4fc4-e8d0-2f4a3eab7009",
    "colab": {
     "base_uri": "https://localhost:8080/"
    },
    "ExecuteTime": {
     "end_time": "2023-11-05T20:32:30.300682Z",
     "start_time": "2023-11-05T20:32:30.290477Z"
    }
   },
   "outputs": [
    {
     "data": {
      "text/plain": "(303, 6)"
     },
     "execution_count": 4,
     "metadata": {},
     "output_type": "execute_result"
    }
   ],
   "source": [
    "df.shape"
   ]
  },
  {
   "cell_type": "code",
   "execution_count": 5,
   "metadata": {
    "id": "Epc4Qs2M9RWK",
    "executionInfo": {
     "status": "ok",
     "timestamp": 1699201275620,
     "user_tz": 180,
     "elapsed": 23,
     "user": {
      "displayName": "Martin",
      "userId": "04502746936763436867"
     }
    },
    "outputId": "6ee0bb64-9c32-46d6-d588-d3390c4e70cb",
    "colab": {
     "base_uri": "https://localhost:8080/",
     "height": 206
    },
    "ExecuteTime": {
     "end_time": "2023-11-05T20:32:30.959792Z",
     "start_time": "2023-11-05T20:32:30.951901Z"
    }
   },
   "outputs": [
    {
     "data": {
      "text/plain": "   edad  td  par  col  fcm riesgo\n0    63   1  145  233  150   bajo\n1    67   4  160  286  108   alto\n2    67   4  120  229  129   alto\n3    37   3  130  250  187   bajo\n4    41   2  130  204  172   bajo",
      "text/html": "<div>\n<style scoped>\n    .dataframe tbody tr th:only-of-type {\n        vertical-align: middle;\n    }\n\n    .dataframe tbody tr th {\n        vertical-align: top;\n    }\n\n    .dataframe thead th {\n        text-align: right;\n    }\n</style>\n<table border=\"1\" class=\"dataframe\">\n  <thead>\n    <tr style=\"text-align: right;\">\n      <th></th>\n      <th>edad</th>\n      <th>td</th>\n      <th>par</th>\n      <th>col</th>\n      <th>fcm</th>\n      <th>riesgo</th>\n    </tr>\n  </thead>\n  <tbody>\n    <tr>\n      <th>0</th>\n      <td>63</td>\n      <td>1</td>\n      <td>145</td>\n      <td>233</td>\n      <td>150</td>\n      <td>bajo</td>\n    </tr>\n    <tr>\n      <th>1</th>\n      <td>67</td>\n      <td>4</td>\n      <td>160</td>\n      <td>286</td>\n      <td>108</td>\n      <td>alto</td>\n    </tr>\n    <tr>\n      <th>2</th>\n      <td>67</td>\n      <td>4</td>\n      <td>120</td>\n      <td>229</td>\n      <td>129</td>\n      <td>alto</td>\n    </tr>\n    <tr>\n      <th>3</th>\n      <td>37</td>\n      <td>3</td>\n      <td>130</td>\n      <td>250</td>\n      <td>187</td>\n      <td>bajo</td>\n    </tr>\n    <tr>\n      <th>4</th>\n      <td>41</td>\n      <td>2</td>\n      <td>130</td>\n      <td>204</td>\n      <td>172</td>\n      <td>bajo</td>\n    </tr>\n  </tbody>\n</table>\n</div>"
     },
     "execution_count": 5,
     "metadata": {},
     "output_type": "execute_result"
    }
   ],
   "source": [
    "df.head()"
   ]
  },
  {
   "cell_type": "code",
   "execution_count": null,
   "metadata": {
    "id": "GbM4Z9GP9RWL",
    "executionInfo": {
     "status": "ok",
     "timestamp": 1699201275620,
     "user_tz": 180,
     "elapsed": 21,
     "user": {
      "displayName": "Martin",
      "userId": "04502746936763436867"
     }
    },
    "outputId": "e16ee1b9-3181-44e2-fb8d-b11d8c931139",
    "colab": {
     "base_uri": "https://localhost:8080/",
     "height": 206
    }
   },
   "outputs": [],
   "source": [
    "df.describe(include=np.number).T.apply(lambda s: s.apply(lambda x: format(x, 'f')))\n"
   ]
  },
  {
   "cell_type": "code",
   "execution_count": null,
   "metadata": {
    "id": "udGftmrL9RWL",
    "executionInfo": {
     "status": "ok",
     "timestamp": 1699201275620,
     "user_tz": 180,
     "elapsed": 19,
     "user": {
      "displayName": "Martin",
      "userId": "04502746936763436867"
     }
    },
    "outputId": "2624bfa8-7e37-42e8-9371-43b59ddc3575",
    "colab": {
     "base_uri": "https://localhost:8080/"
    }
   },
   "outputs": [],
   "source": [
    "df.isnull().sum()"
   ]
  },
  {
   "cell_type": "code",
   "execution_count": null,
   "metadata": {
    "id": "r2eeJBe69RWM",
    "executionInfo": {
     "status": "ok",
     "timestamp": 1699201275961,
     "user_tz": 180,
     "elapsed": 357,
     "user": {
      "displayName": "Martin",
      "userId": "04502746936763436867"
     }
    },
    "outputId": "0d922c75-f948-47f0-e5aa-11d2cdb2fb4d",
    "colab": {
     "base_uri": "https://localhost:8080/",
     "height": 467
    }
   },
   "outputs": [],
   "source": [
    "fig = plt.figure()\n",
    "target = df['riesgo']\n",
    "sns.countplot(x=target)\n",
    "\n"
   ]
  },
  {
   "cell_type": "code",
   "execution_count": null,
   "metadata": {
    "id": "dVY4Gkip9RWM",
    "executionInfo": {
     "status": "ok",
     "timestamp": 1699201275962,
     "user_tz": 180,
     "elapsed": 17,
     "user": {
      "displayName": "Martin",
      "userId": "04502746936763436867"
     }
    },
    "outputId": "f1d0074a-329d-482d-f3d6-b6e5b1f9d75c",
    "colab": {
     "base_uri": "https://localhost:8080/"
    }
   },
   "outputs": [],
   "source": [
    "#Interpolacion de valores 0 para Frecuencia cardiaca maxima\n",
    "df['fcm'].replace(to_replace=0,value=np.nan,inplace=True)\n",
    "df['fcm'].interpolate(method='linear',inplace=True)\n",
    "print(df['fcm'])"
   ]
  },
  {
   "cell_type": "code",
   "execution_count": null,
   "metadata": {
    "id": "8aOgV6mw9RWN",
    "executionInfo": {
     "status": "ok",
     "timestamp": 1699201275963,
     "user_tz": 180,
     "elapsed": 16,
     "user": {
      "displayName": "Martin",
      "userId": "04502746936763436867"
     }
    },
    "outputId": "0e2313b0-9a94-4ae0-986c-364c37c14024",
    "colab": {
     "base_uri": "https://localhost:8080/"
    }
   },
   "outputs": [],
   "source": [
    "#Interpolacion de valores 0 para presion arterial en reposo\n",
    "df['par'].replace(to_replace=0,value=np.nan,inplace=True)\n",
    "df['par'].replace(to_replace=-1,value=np.nan,inplace=True)\n",
    "df['par'].interpolate(method='linear',inplace=True)\n",
    "print(df['par'])"
   ]
  },
  {
   "cell_type": "code",
   "execution_count": null,
   "metadata": {
    "id": "utSAxBpf9RWO",
    "executionInfo": {
     "status": "ok",
     "timestamp": 1699201275963,
     "user_tz": 180,
     "elapsed": 10,
     "user": {
      "displayName": "Martin",
      "userId": "04502746936763436867"
     }
    },
    "outputId": "e0ca123f-d8c1-40af-ea2d-acc0eb2c2507",
    "colab": {
     "base_uri": "https://localhost:8080/"
    }
   },
   "outputs": [],
   "source": [
    "Bajo, Alto = df['riesgo'].value_counts()\n",
    "print(Bajo)\n",
    "print(Alto)"
   ]
  },
  {
   "cell_type": "code",
   "execution_count": null,
   "metadata": {
    "id": "7Ls77jkp9RWP",
    "executionInfo": {
     "status": "ok",
     "timestamp": 1699201277630,
     "user_tz": 180,
     "elapsed": 1674,
     "user": {
      "displayName": "Martin",
      "userId": "04502746936763436867"
     }
    },
    "outputId": "9fef5d6b-87e0-4fe7-b486-995e80aa531e",
    "colab": {
     "base_uri": "https://localhost:8080/",
     "height": 305
    }
   },
   "outputs": [],
   "source": [
    "fig, ax = plt.subplots(1,5,figsize=(13,3))\n",
    "fig.suptitle('Boxplots')\n",
    "sns.boxplot(x=df['edad'], ax=ax[0])\n",
    "ax[0].set_title('Edad')\n",
    "sns.boxplot(x=df['par'], ax=ax[1])\n",
    "ax[1].set_title('Presion Arterial en reposo')\n",
    "sns.boxplot(x=df['col'], ax=ax[2])\n",
    "ax[2].set_title('Colesterol')\n",
    "sns.boxplot(x=df['fcm'], ax=ax[3])\n",
    "ax[3].set_title('Frecuencia Cardiaca Maxima')\n",
    "ax[4].hist(x=df['td'])\n",
    "ax[4].set_title('Dolor Toraxico')\n",
    "plt.tight_layout()\n",
    "angTip,angAtip,noAng,asint = df['td'].value_counts()\n",
    "print(angTip)\n",
    "print(angAtip)\n",
    "print(noAng)\n",
    "print(asint)\n"
   ]
  },
  {
   "cell_type": "code",
   "source": [
    "#Analizamos correlacion\n",
    "corr = df.corr(numeric_only = True)\n",
    "sns.heatmap(corr, xticklabels=corr.columns, yticklabels=corr.columns, annot=True, cmap=sns.diverging_palette(220, 20, as_cmap=True))\n",
    "plt.tight_layout()"
   ],
   "metadata": {
    "colab": {
     "base_uri": "https://localhost:8080/",
     "height": 487
    },
    "id": "wAv-yop_SSF0",
    "executionInfo": {
     "status": "ok",
     "timestamp": 1699201278576,
     "user_tz": 180,
     "elapsed": 950,
     "user": {
      "displayName": "Martin",
      "userId": "04502746936763436867"
     }
    },
    "outputId": "63c5bd0b-b60c-4681-b302-a75d62291a5f"
   },
   "execution_count": null,
   "outputs": []
  },
  {
   "cell_type": "code",
   "source": [
    "#Modificamos el dataset para trabajar los datos categoricos\n",
    "df['riesgo'] = df['riesgo'].map({'bajo':0,'alto':1})\n"
   ],
   "metadata": {
    "id": "YzCAHfdVSWj4"
   },
   "execution_count": null,
   "outputs": []
  },
  {
   "cell_type": "code",
   "source": [
    "#Separamos las variables de entrada y salida\n",
    "X = df[['edad','td','par','col','fcm']]\n",
    "Y = df['riesgo']"
   ],
   "metadata": {
    "id": "gzwGw1fzT8if"
   },
   "execution_count": null,
   "outputs": []
  },
  {
   "cell_type": "code",
   "source": [
    "#Aplicamos el oversampling visto en clases de práctica:\n",
    "import imblearn\n",
    "from imblearn.over_sampling import RandomOverSampler\n"
   ],
   "metadata": {
    "id": "JvJw2AAFUo48"
   },
   "execution_count": null,
   "outputs": []
  },
  {
   "cell_type": "code",
   "source": [
    "oversample = RandomOverSampler(sampling_strategy='minority')\n",
    "X_over, Y_over = oversample.fit_resample(X, Y)\n",
    "sns.countplot(x=Y_over)\n"
   ],
   "metadata": {
    "id": "2Te1jHvZUtnj"
   },
   "execution_count": null,
   "outputs": []
  }
 ],
 "metadata": {
  "kernelspec": {
   "display_name": "Python 3",
   "language": "python",
   "name": "python3"
  },
  "language_info": {
   "codemirror_mode": {
    "name": "ipython",
    "version": 3
   },
   "file_extension": ".py",
   "mimetype": "text/x-python",
   "name": "python",
   "nbconvert_exporter": "python",
   "pygments_lexer": "ipython3",
   "version": "3.11.5"
  },
  "colab": {
   "provenance": []
  }
 },
 "nbformat": 4,
 "nbformat_minor": 0
}
